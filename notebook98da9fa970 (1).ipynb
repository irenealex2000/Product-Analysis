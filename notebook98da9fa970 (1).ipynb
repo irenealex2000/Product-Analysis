{
  "metadata": {
    "kernelspec": {
      "name": "python3",
      "display_name": "Python 3",
      "language": "python"
    },
    "language_info": {
      "name": "python",
      "version": "3.10.12",
      "mimetype": "text/x-python",
      "codemirror_mode": {
        "name": "ipython",
        "version": 3
      },
      "pygments_lexer": "ipython3",
      "nbconvert_exporter": "python",
      "file_extension": ".py"
    },
    "kaggle": {
      "accelerator": "none",
      "dataSources": [
        {
          "sourceId": 6035224,
          "sourceType": "datasetVersion",
          "datasetId": 3452283
        }
      ],
      "dockerImageVersionId": 30587,
      "isInternetEnabled": false,
      "language": "python",
      "sourceType": "notebook",
      "isGpuEnabled": false
    },
    "colab": {
      "name": "notebook98da9fa970",
      "provenance": []
    }
  },
  "nbformat_minor": 0,
  "nbformat": 4,
  "cells": [
    {
      "source": [
        "\n",
        "# IMPORTANT: RUN THIS CELL IN ORDER TO IMPORT YOUR KAGGLE DATA SOURCES\n",
        "# TO THE CORRECT LOCATION (/kaggle/input) IN YOUR NOTEBOOK,\n",
        "# THEN FEEL FREE TO DELETE THIS CELL.\n",
        "# NOTE: THIS NOTEBOOK ENVIRONMENT DIFFERS FROM KAGGLE'S PYTHON\n",
        "# ENVIRONMENT SO THERE MAY BE MISSING LIBRARIES USED BY YOUR\n",
        "# NOTEBOOK.\n",
        "\n",
        "import os\n",
        "import sys\n",
        "from tempfile import NamedTemporaryFile\n",
        "from urllib.request import urlopen\n",
        "from urllib.parse import unquote, urlparse\n",
        "from urllib.error import HTTPError\n",
        "from zipfile import ZipFile\n",
        "import tarfile\n",
        "import shutil\n",
        "\n",
        "CHUNK_SIZE = 40960\n",
        "DATA_SOURCE_MAPPING = 'top-mobile-phones-in-india-2023-on-flipkart:https%3A%2F%2Fstorage.googleapis.com%2Fkaggle-data-sets%2F3452283%2F6035224%2Fbundle%2Farchive.zip%3FX-Goog-Algorithm%3DGOOG4-RSA-SHA256%26X-Goog-Credential%3Dgcp-kaggle-com%2540kaggle-161607.iam.gserviceaccount.com%252F20240314%252Fauto%252Fstorage%252Fgoog4_request%26X-Goog-Date%3D20240314T105137Z%26X-Goog-Expires%3D259200%26X-Goog-SignedHeaders%3Dhost%26X-Goog-Signature%3D9a2774ee0387e46a835a3ca9dafe3dea13baf4f34f2fa7360255bc4a50c7b546e57ad53e74475f8e71e7b0f4ab72dcc00e04c91a97a1a42a0b71bbedc9d141be1a1caca844474bc43a77a2c7808533799780d875afe26f92eeb27784890dac1e88ccba5d9d338fff288c5f4e76f94c84490cd08e2f51e6d2950c54c5540a95df3c7a3d62320a29ada57ec124993b35f2f9d34ef8432dcad7c32d52973bb9c9d6771dcc5caac31b59dc1bdb7aa86ce46bb9e5e96a910816638f35391ea8749e3bbf8cf2fc91616fc356e40ae20b19d86dbc591f5357d35a9296893f70f51e2f7bf543d73db1ca6995cf36b7cd1166556d16c82af9e4934067b03b8193ecb36484'\n",
        "\n",
        "KAGGLE_INPUT_PATH='/kaggle/input'\n",
        "KAGGLE_WORKING_PATH='/kaggle/working'\n",
        "KAGGLE_SYMLINK='kaggle'\n",
        "\n",
        "!umount /kaggle/input/ 2> /dev/null\n",
        "shutil.rmtree('/kaggle/input', ignore_errors=True)\n",
        "os.makedirs(KAGGLE_INPUT_PATH, 0o777, exist_ok=True)\n",
        "os.makedirs(KAGGLE_WORKING_PATH, 0o777, exist_ok=True)\n",
        "\n",
        "try:\n",
        "  os.symlink(KAGGLE_INPUT_PATH, os.path.join(\"..\", 'input'), target_is_directory=True)\n",
        "except FileExistsError:\n",
        "  pass\n",
        "try:\n",
        "  os.symlink(KAGGLE_WORKING_PATH, os.path.join(\"..\", 'working'), target_is_directory=True)\n",
        "except FileExistsError:\n",
        "  pass\n",
        "\n",
        "for data_source_mapping in DATA_SOURCE_MAPPING.split(','):\n",
        "    directory, download_url_encoded = data_source_mapping.split(':')\n",
        "    download_url = unquote(download_url_encoded)\n",
        "    filename = urlparse(download_url).path\n",
        "    destination_path = os.path.join(KAGGLE_INPUT_PATH, directory)\n",
        "    try:\n",
        "        with urlopen(download_url) as fileres, NamedTemporaryFile() as tfile:\n",
        "            total_length = fileres.headers['content-length']\n",
        "            print(f'Downloading {directory}, {total_length} bytes compressed')\n",
        "            dl = 0\n",
        "            data = fileres.read(CHUNK_SIZE)\n",
        "            while len(data) > 0:\n",
        "                dl += len(data)\n",
        "                tfile.write(data)\n",
        "                done = int(50 * dl / int(total_length))\n",
        "                sys.stdout.write(f\"\\r[{'=' * done}{' ' * (50-done)}] {dl} bytes downloaded\")\n",
        "                sys.stdout.flush()\n",
        "                data = fileres.read(CHUNK_SIZE)\n",
        "            if filename.endswith('.zip'):\n",
        "              with ZipFile(tfile) as zfile:\n",
        "                zfile.extractall(destination_path)\n",
        "            else:\n",
        "              with tarfile.open(tfile.name) as tarfile:\n",
        "                tarfile.extractall(destination_path)\n",
        "            print(f'\\nDownloaded and uncompressed: {directory}')\n",
        "    except HTTPError as e:\n",
        "        print(f'Failed to load (likely expired) {download_url} to path {destination_path}')\n",
        "        continue\n",
        "    except OSError as e:\n",
        "        print(f'Failed to load {download_url} to path {destination_path}')\n",
        "        continue\n",
        "\n",
        "print('Data source import complete.')\n"
      ],
      "metadata": {
        "id": "Agl6dPVcluPa"
      },
      "cell_type": "code",
      "outputs": [],
      "execution_count": null
    },
    {
      "cell_type": "markdown",
      "source": [
        "Then dataset used is the list of popular smart phones of 2023 in India from a known e-commerce platform."
      ],
      "metadata": {
        "id": "-ziMc2C-luPi"
      }
    },
    {
      "cell_type": "code",
      "source": [
        "import pandas as pd\n",
        "import seaborn as sns\n",
        "import numpy as np\n",
        "from sklearn.impute import SimpleImputer"
      ],
      "metadata": {
        "execution": {
          "iopub.status.busy": "2023-11-16T08:39:42.329169Z",
          "iopub.execute_input": "2023-11-16T08:39:42.329591Z",
          "iopub.status.idle": "2023-11-16T08:39:42.334851Z",
          "shell.execute_reply.started": "2023-11-16T08:39:42.32956Z",
          "shell.execute_reply": "2023-11-16T08:39:42.333504Z"
        },
        "trusted": true,
        "id": "N1JAOx_vluPl"
      },
      "execution_count": null,
      "outputs": []
    },
    {
      "cell_type": "markdown",
      "source": [
        "imported libraries which are neccessery for the process. Then I had imported the dataset."
      ],
      "metadata": {
        "id": "41_TCvXrluPm"
      }
    },
    {
      "cell_type": "code",
      "source": [
        "df=pd.read_csv(r\"/kaggle/input/top-mobile-phones-in-india-2023-on-flipkart/flipkart_top_mobiles.csv\")"
      ],
      "metadata": {
        "execution": {
          "iopub.status.busy": "2023-11-16T08:39:42.34346Z",
          "iopub.execute_input": "2023-11-16T08:39:42.343831Z",
          "iopub.status.idle": "2023-11-16T08:39:42.357238Z",
          "shell.execute_reply.started": "2023-11-16T08:39:42.343801Z",
          "shell.execute_reply": "2023-11-16T08:39:42.355708Z"
        },
        "trusted": true,
        "id": "d-lQ8t-KluPm"
      },
      "execution_count": null,
      "outputs": []
    },
    {
      "cell_type": "markdown",
      "source": [
        "The first five records are as below"
      ],
      "metadata": {
        "id": "FDv5n_KdluPn"
      }
    },
    {
      "cell_type": "code",
      "source": [
        "df.head()"
      ],
      "metadata": {
        "execution": {
          "iopub.status.busy": "2023-11-16T08:39:42.359688Z",
          "iopub.execute_input": "2023-11-16T08:39:42.36016Z",
          "iopub.status.idle": "2023-11-16T08:39:42.376857Z",
          "shell.execute_reply.started": "2023-11-16T08:39:42.360117Z",
          "shell.execute_reply": "2023-11-16T08:39:42.375621Z"
        },
        "trusted": true,
        "id": "E1Vniq67luPn"
      },
      "execution_count": null,
      "outputs": []
    },
    {
      "cell_type": "markdown",
      "source": [
        "title column is divided into 4 other columns: model,color,internal storage and RAM"
      ],
      "metadata": {
        "id": "PGWSDdKcluPo"
      }
    },
    {
      "cell_type": "code",
      "source": [
        "df[\"model\"]=df[\"title\"].str.extract(r'(^.*?)\\(')"
      ],
      "metadata": {
        "execution": {
          "iopub.status.busy": "2023-11-16T08:39:42.37849Z",
          "iopub.execute_input": "2023-11-16T08:39:42.379095Z",
          "iopub.status.idle": "2023-11-16T08:39:42.385987Z",
          "shell.execute_reply.started": "2023-11-16T08:39:42.379047Z",
          "shell.execute_reply": "2023-11-16T08:39:42.385244Z"
        },
        "trusted": true,
        "id": "y4EF8qQcluPo"
      },
      "execution_count": null,
      "outputs": []
    },
    {
      "cell_type": "code",
      "source": [
        "df[\"model\"]"
      ],
      "metadata": {
        "execution": {
          "iopub.status.busy": "2023-11-16T08:39:42.388768Z",
          "iopub.execute_input": "2023-11-16T08:39:42.38909Z",
          "iopub.status.idle": "2023-11-16T08:39:42.402398Z",
          "shell.execute_reply.started": "2023-11-16T08:39:42.389063Z",
          "shell.execute_reply": "2023-11-16T08:39:42.401205Z"
        },
        "trusted": true,
        "id": "uMtVvmLpluPp"
      },
      "execution_count": null,
      "outputs": []
    },
    {
      "cell_type": "code",
      "source": [
        "df[\"color\"]=df[\"title\"].str.extract(r'\\(([^,]*)')"
      ],
      "metadata": {
        "execution": {
          "iopub.status.busy": "2023-11-16T08:39:42.404024Z",
          "iopub.execute_input": "2023-11-16T08:39:42.404357Z",
          "iopub.status.idle": "2023-11-16T08:39:42.415027Z",
          "shell.execute_reply.started": "2023-11-16T08:39:42.404328Z",
          "shell.execute_reply": "2023-11-16T08:39:42.413916Z"
        },
        "trusted": true,
        "id": "n6Jg9gN_luPp"
      },
      "execution_count": null,
      "outputs": []
    },
    {
      "cell_type": "code",
      "source": [
        "df[\"color\"]"
      ],
      "metadata": {
        "execution": {
          "iopub.status.busy": "2023-11-16T08:39:42.416574Z",
          "iopub.execute_input": "2023-11-16T08:39:42.417054Z",
          "iopub.status.idle": "2023-11-16T08:39:42.430166Z",
          "shell.execute_reply.started": "2023-11-16T08:39:42.417012Z",
          "shell.execute_reply": "2023-11-16T08:39:42.42877Z"
        },
        "trusted": true,
        "id": "1EgCrmSDluPq"
      },
      "execution_count": null,
      "outputs": []
    },
    {
      "cell_type": "code",
      "source": [
        "df[\"internal storage\"]=df[\"title\"].str.extract(r',\\s*([^)]*)')"
      ],
      "metadata": {
        "execution": {
          "iopub.status.busy": "2023-11-16T08:39:42.432492Z",
          "iopub.execute_input": "2023-11-16T08:39:42.433672Z",
          "iopub.status.idle": "2023-11-16T08:39:42.441957Z",
          "shell.execute_reply.started": "2023-11-16T08:39:42.433634Z",
          "shell.execute_reply": "2023-11-16T08:39:42.440837Z"
        },
        "trusted": true,
        "id": "WK7h9jZFluPq"
      },
      "execution_count": null,
      "outputs": []
    },
    {
      "cell_type": "code",
      "source": [
        "df[\"internal storage\"]"
      ],
      "metadata": {
        "execution": {
          "iopub.status.busy": "2023-11-16T08:39:42.442973Z",
          "iopub.execute_input": "2023-11-16T08:39:42.443341Z",
          "iopub.status.idle": "2023-11-16T08:39:42.45828Z",
          "shell.execute_reply.started": "2023-11-16T08:39:42.443298Z",
          "shell.execute_reply": "2023-11-16T08:39:42.456996Z"
        },
        "trusted": true,
        "id": "tJ3JmB9tluPq"
      },
      "execution_count": null,
      "outputs": []
    },
    {
      "cell_type": "code",
      "source": [
        "df[\"RAM\"]=df[\"title\"].str.extract(r'\\([^)]*\\)\\s*\\(([^)]*)\\)')"
      ],
      "metadata": {
        "execution": {
          "iopub.status.busy": "2023-11-16T08:39:42.523864Z",
          "iopub.execute_input": "2023-11-16T08:39:42.524474Z",
          "iopub.status.idle": "2023-11-16T08:39:42.530792Z",
          "shell.execute_reply.started": "2023-11-16T08:39:42.52444Z",
          "shell.execute_reply": "2023-11-16T08:39:42.529684Z"
        },
        "trusted": true,
        "id": "wo11bpgAluPq"
      },
      "execution_count": null,
      "outputs": []
    },
    {
      "cell_type": "code",
      "source": [
        "df[\"RAM\"]"
      ],
      "metadata": {
        "execution": {
          "iopub.status.busy": "2023-11-16T08:39:42.532906Z",
          "iopub.execute_input": "2023-11-16T08:39:42.533212Z",
          "iopub.status.idle": "2023-11-16T08:39:42.545644Z",
          "shell.execute_reply.started": "2023-11-16T08:39:42.533185Z",
          "shell.execute_reply": "2023-11-16T08:39:42.544381Z"
        },
        "trusted": true,
        "id": "2yUI0_7bluPr"
      },
      "execution_count": null,
      "outputs": []
    },
    {
      "cell_type": "markdown",
      "source": [
        "finally, dropped the column 'title'"
      ],
      "metadata": {
        "id": "8zfUoJrTluPr"
      }
    },
    {
      "cell_type": "code",
      "source": [
        "df=df.drop(columns=\"title\")"
      ],
      "metadata": {
        "execution": {
          "iopub.status.busy": "2023-11-16T08:39:42.547214Z",
          "iopub.execute_input": "2023-11-16T08:39:42.548405Z",
          "iopub.status.idle": "2023-11-16T08:39:42.558238Z",
          "shell.execute_reply.started": "2023-11-16T08:39:42.548362Z",
          "shell.execute_reply": "2023-11-16T08:39:42.557003Z"
        },
        "trusted": true,
        "id": "segZD-AtluPr"
      },
      "execution_count": null,
      "outputs": []
    },
    {
      "cell_type": "code",
      "source": [
        "df"
      ],
      "metadata": {
        "execution": {
          "iopub.status.busy": "2023-11-16T08:39:42.561016Z",
          "iopub.execute_input": "2023-11-16T08:39:42.562425Z",
          "iopub.status.idle": "2023-11-16T08:39:42.588905Z",
          "shell.execute_reply.started": "2023-11-16T08:39:42.562375Z",
          "shell.execute_reply": "2023-11-16T08:39:42.587803Z"
        },
        "trusted": true,
        "id": "zfgTx_ZzluPr"
      },
      "execution_count": null,
      "outputs": []
    },
    {
      "cell_type": "markdown",
      "source": [
        "Now, when we look at the metadata, there are 216 records with 10 columns.Then we listed the columns and there datatypes"
      ],
      "metadata": {
        "id": "gU3QEPWzluPr"
      }
    },
    {
      "cell_type": "code",
      "source": [
        "df.shape"
      ],
      "metadata": {
        "execution": {
          "iopub.status.busy": "2023-11-16T08:39:42.590529Z",
          "iopub.execute_input": "2023-11-16T08:39:42.59142Z",
          "iopub.status.idle": "2023-11-16T08:39:42.598518Z",
          "shell.execute_reply.started": "2023-11-16T08:39:42.591372Z",
          "shell.execute_reply": "2023-11-16T08:39:42.597505Z"
        },
        "trusted": true,
        "id": "vNLZjI3-luPr"
      },
      "execution_count": null,
      "outputs": []
    },
    {
      "cell_type": "code",
      "source": [
        "df.columns"
      ],
      "metadata": {
        "execution": {
          "iopub.status.busy": "2023-11-16T08:39:42.600024Z",
          "iopub.execute_input": "2023-11-16T08:39:42.600402Z",
          "iopub.status.idle": "2023-11-16T08:39:42.613759Z",
          "shell.execute_reply.started": "2023-11-16T08:39:42.60037Z",
          "shell.execute_reply": "2023-11-16T08:39:42.612275Z"
        },
        "trusted": true,
        "id": "V7lGp_hyluPs"
      },
      "execution_count": null,
      "outputs": []
    },
    {
      "cell_type": "code",
      "source": [
        "df.dtypes"
      ],
      "metadata": {
        "execution": {
          "iopub.status.busy": "2023-11-16T08:39:42.615137Z",
          "iopub.execute_input": "2023-11-16T08:39:42.615573Z",
          "iopub.status.idle": "2023-11-16T08:39:42.627703Z",
          "shell.execute_reply.started": "2023-11-16T08:39:42.61554Z",
          "shell.execute_reply": "2023-11-16T08:39:42.626514Z"
        },
        "trusted": true,
        "id": "miMAxsL3luPs"
      },
      "execution_count": null,
      "outputs": []
    },
    {
      "cell_type": "markdown",
      "source": [
        "There are columns like price,rating_count,discount which needed to be changed to integer datatype and seller_rating to object."
      ],
      "metadata": {
        "id": "8C2xvTZeluPs"
      }
    },
    {
      "cell_type": "code",
      "source": [
        "df[\"price\"]=df[\"price\"].str.replace('₹','')"
      ],
      "metadata": {
        "execution": {
          "iopub.status.busy": "2023-11-16T08:39:42.629718Z",
          "iopub.execute_input": "2023-11-16T08:39:42.630246Z",
          "iopub.status.idle": "2023-11-16T08:39:42.638499Z",
          "shell.execute_reply.started": "2023-11-16T08:39:42.630213Z",
          "shell.execute_reply": "2023-11-16T08:39:42.637364Z"
        },
        "trusted": true,
        "id": "4UFlxNlUluPt"
      },
      "execution_count": null,
      "outputs": []
    },
    {
      "cell_type": "code",
      "source": [
        "df[\"price\"]=df[\"price\"].str.replace(',','')"
      ],
      "metadata": {
        "execution": {
          "iopub.status.busy": "2023-11-16T08:39:42.64465Z",
          "iopub.execute_input": "2023-11-16T08:39:42.644991Z",
          "iopub.status.idle": "2023-11-16T08:39:42.651045Z",
          "shell.execute_reply.started": "2023-11-16T08:39:42.644962Z",
          "shell.execute_reply": "2023-11-16T08:39:42.6497Z"
        },
        "trusted": true,
        "id": "ZL7ZziwOluPt"
      },
      "execution_count": null,
      "outputs": []
    },
    {
      "cell_type": "code",
      "source": [
        "df[\"price\"]=df[\"price\"].astype(int)"
      ],
      "metadata": {
        "execution": {
          "iopub.status.busy": "2023-11-16T08:39:42.6524Z",
          "iopub.execute_input": "2023-11-16T08:39:42.652799Z",
          "iopub.status.idle": "2023-11-16T08:39:42.663105Z",
          "shell.execute_reply.started": "2023-11-16T08:39:42.652769Z",
          "shell.execute_reply": "2023-11-16T08:39:42.662068Z"
        },
        "trusted": true,
        "id": "C4WX6Ua2luPu"
      },
      "execution_count": null,
      "outputs": []
    },
    {
      "cell_type": "code",
      "source": [
        "df[\"price\"]"
      ],
      "metadata": {
        "execution": {
          "iopub.status.busy": "2023-11-16T08:39:42.664174Z",
          "iopub.execute_input": "2023-11-16T08:39:42.664588Z",
          "iopub.status.idle": "2023-11-16T08:39:42.677734Z",
          "shell.execute_reply.started": "2023-11-16T08:39:42.664557Z",
          "shell.execute_reply": "2023-11-16T08:39:42.676586Z"
        },
        "trusted": true,
        "id": "mCQuLbyWluPu"
      },
      "execution_count": null,
      "outputs": []
    },
    {
      "cell_type": "code",
      "source": [
        "df[\"rating_count\"]=df[\"rating_count\"].str.replace(',','')"
      ],
      "metadata": {
        "execution": {
          "iopub.status.busy": "2023-11-16T08:39:42.6788Z",
          "iopub.execute_input": "2023-11-16T08:39:42.679129Z",
          "iopub.status.idle": "2023-11-16T08:39:42.688853Z",
          "shell.execute_reply.started": "2023-11-16T08:39:42.6791Z",
          "shell.execute_reply": "2023-11-16T08:39:42.687862Z"
        },
        "trusted": true,
        "id": "2Eyo3U3yluPu"
      },
      "execution_count": null,
      "outputs": []
    },
    {
      "cell_type": "code",
      "source": [
        "df[\"rating_count\"]=df[\"rating_count\"].astype(int)"
      ],
      "metadata": {
        "execution": {
          "iopub.status.busy": "2023-11-16T08:39:42.690137Z",
          "iopub.execute_input": "2023-11-16T08:39:42.6911Z",
          "iopub.status.idle": "2023-11-16T08:39:42.700511Z",
          "shell.execute_reply.started": "2023-11-16T08:39:42.691057Z",
          "shell.execute_reply": "2023-11-16T08:39:42.699543Z"
        },
        "trusted": true,
        "id": "jyvY3kh4luPv"
      },
      "execution_count": null,
      "outputs": []
    },
    {
      "cell_type": "code",
      "source": [
        "df[\"rating_count\"]"
      ],
      "metadata": {
        "execution": {
          "iopub.status.busy": "2023-11-16T08:39:42.701585Z",
          "iopub.execute_input": "2023-11-16T08:39:42.701955Z",
          "iopub.status.idle": "2023-11-16T08:39:42.716068Z",
          "shell.execute_reply.started": "2023-11-16T08:39:42.701926Z",
          "shell.execute_reply": "2023-11-16T08:39:42.714826Z"
        },
        "trusted": true,
        "id": "I1U84oKtluPv"
      },
      "execution_count": null,
      "outputs": []
    },
    {
      "cell_type": "code",
      "source": [
        "df[\"discount\"]=df[\"discount\"].str.replace('%','')\n",
        "df['discount'] = pd.to_numeric(df['discount'], errors='coerce')"
      ],
      "metadata": {
        "execution": {
          "iopub.status.busy": "2023-11-16T08:39:42.717655Z",
          "iopub.execute_input": "2023-11-16T08:39:42.718386Z",
          "iopub.status.idle": "2023-11-16T08:39:42.72674Z",
          "shell.execute_reply.started": "2023-11-16T08:39:42.718338Z",
          "shell.execute_reply": "2023-11-16T08:39:42.725474Z"
        },
        "trusted": true,
        "id": "C2jI55IjluPv"
      },
      "execution_count": null,
      "outputs": []
    },
    {
      "cell_type": "code",
      "source": [
        "df[\"seller_rating\"]=df[\"seller_rating\"].astype(str)"
      ],
      "metadata": {
        "execution": {
          "iopub.status.busy": "2023-11-16T08:39:42.727769Z",
          "iopub.execute_input": "2023-11-16T08:39:42.728113Z",
          "iopub.status.idle": "2023-11-16T08:39:42.737114Z",
          "shell.execute_reply.started": "2023-11-16T08:39:42.728083Z",
          "shell.execute_reply": "2023-11-16T08:39:42.736147Z"
        },
        "trusted": true,
        "id": "Nr4CxKtpluPw"
      },
      "execution_count": null,
      "outputs": []
    },
    {
      "cell_type": "markdown",
      "source": [
        "the renewed columns and datatypes are as below"
      ],
      "metadata": {
        "id": "tndwjK2cluPw"
      }
    },
    {
      "cell_type": "code",
      "source": [
        "df.dtypes"
      ],
      "metadata": {
        "execution": {
          "iopub.status.busy": "2023-11-16T08:39:42.738545Z",
          "iopub.execute_input": "2023-11-16T08:39:42.739253Z",
          "iopub.status.idle": "2023-11-16T08:39:42.752491Z",
          "shell.execute_reply.started": "2023-11-16T08:39:42.7392Z",
          "shell.execute_reply": "2023-11-16T08:39:42.751323Z"
        },
        "trusted": true,
        "id": "tdJtGAuRluPw"
      },
      "execution_count": null,
      "outputs": []
    },
    {
      "cell_type": "markdown",
      "source": [
        "Then the Business moments are calculated:"
      ],
      "metadata": {
        "id": "-zRDlDkKluPx"
      }
    },
    {
      "cell_type": "code",
      "source": [
        "df.describe()"
      ],
      "metadata": {
        "execution": {
          "iopub.status.busy": "2023-11-16T08:39:42.753933Z",
          "iopub.execute_input": "2023-11-16T08:39:42.754512Z",
          "iopub.status.idle": "2023-11-16T08:39:42.781867Z",
          "shell.execute_reply.started": "2023-11-16T08:39:42.754479Z",
          "shell.execute_reply": "2023-11-16T08:39:42.780616Z"
        },
        "trusted": true,
        "id": "lsS_ZXh-luPx"
      },
      "execution_count": null,
      "outputs": []
    },
    {
      "cell_type": "code",
      "source": [
        "df[\"price\"].median()\n",
        "df[\"prod_rating\"].median()\n",
        "df[\"rating_count\"].median()\n",
        "df[\"discount\"].median()"
      ],
      "metadata": {
        "execution": {
          "iopub.status.busy": "2023-11-16T08:39:42.783453Z",
          "iopub.execute_input": "2023-11-16T08:39:42.784348Z",
          "iopub.status.idle": "2023-11-16T08:39:42.796844Z",
          "shell.execute_reply.started": "2023-11-16T08:39:42.784303Z",
          "shell.execute_reply": "2023-11-16T08:39:42.795663Z"
        },
        "trusted": true,
        "id": "2iyZ-BekluPx"
      },
      "execution_count": null,
      "outputs": []
    },
    {
      "cell_type": "code",
      "source": [
        "df.mode()"
      ],
      "metadata": {
        "execution": {
          "iopub.status.busy": "2023-11-16T08:39:42.798446Z",
          "iopub.execute_input": "2023-11-16T08:39:42.799768Z",
          "iopub.status.idle": "2023-11-16T08:39:42.823372Z",
          "shell.execute_reply.started": "2023-11-16T08:39:42.79972Z",
          "shell.execute_reply": "2023-11-16T08:39:42.822152Z"
        },
        "trusted": true,
        "id": "pySV4AFkluPy"
      },
      "execution_count": null,
      "outputs": []
    },
    {
      "cell_type": "code",
      "source": [
        "df[[\"price\",\"prod_rating\",\"rating_count\",\"discount\"]].var()"
      ],
      "metadata": {
        "execution": {
          "iopub.status.busy": "2023-11-16T08:39:42.825398Z",
          "iopub.execute_input": "2023-11-16T08:39:42.825886Z",
          "iopub.status.idle": "2023-11-16T08:39:42.840829Z",
          "shell.execute_reply.started": "2023-11-16T08:39:42.825845Z",
          "shell.execute_reply": "2023-11-16T08:39:42.839722Z"
        },
        "trusted": true,
        "id": "kJQ1CPySluP7"
      },
      "execution_count": null,
      "outputs": []
    },
    {
      "cell_type": "code",
      "source": [
        "df[[\"price\",\"prod_rating\",\"rating_count\",\"discount\"]].skew()"
      ],
      "metadata": {
        "execution": {
          "iopub.status.busy": "2023-11-16T08:39:42.842168Z",
          "iopub.execute_input": "2023-11-16T08:39:42.842936Z",
          "iopub.status.idle": "2023-11-16T08:39:42.858439Z",
          "shell.execute_reply.started": "2023-11-16T08:39:42.8429Z",
          "shell.execute_reply": "2023-11-16T08:39:42.857237Z"
        },
        "trusted": true,
        "id": "Kjtq8K56luP7"
      },
      "execution_count": null,
      "outputs": []
    },
    {
      "cell_type": "code",
      "source": [
        "df[[\"price\",\"prod_rating\",\"rating_count\",\"discount\"]].kurt()"
      ],
      "metadata": {
        "execution": {
          "iopub.status.busy": "2023-11-16T08:39:42.859811Z",
          "iopub.execute_input": "2023-11-16T08:39:42.860932Z",
          "iopub.status.idle": "2023-11-16T08:39:42.874461Z",
          "shell.execute_reply.started": "2023-11-16T08:39:42.860897Z",
          "shell.execute_reply": "2023-11-16T08:39:42.87362Z"
        },
        "trusted": true,
        "id": "YW6HPkXOluP7"
      },
      "execution_count": null,
      "outputs": []
    },
    {
      "cell_type": "markdown",
      "source": [
        "There are 16 duplicates in the data, which is dropped later"
      ],
      "metadata": {
        "id": "P3gT-nIWluP7"
      }
    },
    {
      "cell_type": "code",
      "source": [
        "df.duplicated().sum()\n",
        "df=df.drop_duplicates()"
      ],
      "metadata": {
        "execution": {
          "iopub.status.busy": "2023-11-16T08:39:42.881689Z",
          "iopub.execute_input": "2023-11-16T08:39:42.882419Z",
          "iopub.status.idle": "2023-11-16T08:39:42.893901Z",
          "shell.execute_reply.started": "2023-11-16T08:39:42.882373Z",
          "shell.execute_reply": "2023-11-16T08:39:42.892534Z"
        },
        "trusted": true,
        "id": "0T4OYDQGluP7"
      },
      "execution_count": null,
      "outputs": []
    },
    {
      "cell_type": "code",
      "source": [
        "df.shape"
      ],
      "metadata": {
        "execution": {
          "iopub.status.busy": "2023-11-16T08:39:42.89524Z",
          "iopub.execute_input": "2023-11-16T08:39:42.895649Z",
          "iopub.status.idle": "2023-11-16T08:39:42.90295Z",
          "shell.execute_reply.started": "2023-11-16T08:39:42.89562Z",
          "shell.execute_reply": "2023-11-16T08:39:42.901787Z"
        },
        "trusted": true,
        "id": "EzsfrpDHluP8"
      },
      "execution_count": null,
      "outputs": []
    },
    {
      "cell_type": "markdown",
      "source": [
        "There are missing values in the dataset as below. We need to use imputation technique to treat them."
      ],
      "metadata": {
        "id": "nYybA7gwluP-"
      }
    },
    {
      "cell_type": "code",
      "source": [
        "df.isnull().sum()"
      ],
      "metadata": {
        "execution": {
          "iopub.status.busy": "2023-11-16T08:39:42.904574Z",
          "iopub.execute_input": "2023-11-16T08:39:42.905573Z",
          "iopub.status.idle": "2023-11-16T08:39:42.918126Z",
          "shell.execute_reply.started": "2023-11-16T08:39:42.905532Z",
          "shell.execute_reply": "2023-11-16T08:39:42.917035Z"
        },
        "trusted": true,
        "id": "UW4WgIL-luP-"
      },
      "execution_count": null,
      "outputs": []
    },
    {
      "cell_type": "code",
      "source": [
        "df"
      ],
      "metadata": {
        "execution": {
          "iopub.status.busy": "2023-11-16T08:39:42.919571Z",
          "iopub.execute_input": "2023-11-16T08:39:42.920657Z",
          "iopub.status.idle": "2023-11-16T08:39:42.945537Z",
          "shell.execute_reply.started": "2023-11-16T08:39:42.920626Z",
          "shell.execute_reply": "2023-11-16T08:39:42.944448Z"
        },
        "trusted": true,
        "id": "ixVrmQTOluP_"
      },
      "execution_count": null,
      "outputs": []
    },
    {
      "cell_type": "code",
      "source": [
        "df[\"seller_rating\"].mode()"
      ],
      "metadata": {
        "execution": {
          "iopub.status.busy": "2023-11-16T08:39:42.946961Z",
          "iopub.execute_input": "2023-11-16T08:39:42.947798Z",
          "iopub.status.idle": "2023-11-16T08:39:42.955721Z",
          "shell.execute_reply.started": "2023-11-16T08:39:42.947765Z",
          "shell.execute_reply": "2023-11-16T08:39:42.954911Z"
        },
        "trusted": true,
        "id": "YD2QhLivluP_"
      },
      "execution_count": null,
      "outputs": []
    },
    {
      "cell_type": "code",
      "source": [
        "df[\"seller_rating\"].fillna(4.9, inplace=True)"
      ],
      "metadata": {
        "execution": {
          "iopub.status.busy": "2023-11-16T08:39:42.957029Z",
          "iopub.execute_input": "2023-11-16T08:39:42.957698Z",
          "iopub.status.idle": "2023-11-16T08:39:42.964901Z",
          "shell.execute_reply.started": "2023-11-16T08:39:42.957653Z",
          "shell.execute_reply": "2023-11-16T08:39:42.96377Z"
        },
        "trusted": true,
        "id": "_iNJaUA9luP_"
      },
      "execution_count": null,
      "outputs": []
    },
    {
      "cell_type": "code",
      "source": [
        "df.isnull().sum()"
      ],
      "metadata": {
        "execution": {
          "iopub.status.busy": "2023-11-16T08:39:42.966046Z",
          "iopub.execute_input": "2023-11-16T08:39:42.96643Z",
          "iopub.status.idle": "2023-11-16T08:39:42.980141Z",
          "shell.execute_reply.started": "2023-11-16T08:39:42.966401Z",
          "shell.execute_reply": "2023-11-16T08:39:42.9789Z"
        },
        "trusted": true,
        "id": "Oux23Lz2luP_"
      },
      "execution_count": null,
      "outputs": []
    },
    {
      "cell_type": "code",
      "source": [
        "df[\"discount\"].mode()"
      ],
      "metadata": {
        "execution": {
          "iopub.status.busy": "2023-11-16T08:39:42.981418Z",
          "iopub.execute_input": "2023-11-16T08:39:42.98181Z",
          "iopub.status.idle": "2023-11-16T08:39:42.993217Z",
          "shell.execute_reply.started": "2023-11-16T08:39:42.981747Z",
          "shell.execute_reply": "2023-11-16T08:39:42.992376Z"
        },
        "trusted": true,
        "id": "g-GnbRdCluP_"
      },
      "execution_count": null,
      "outputs": []
    },
    {
      "cell_type": "code",
      "source": [
        "df[\"discount\"].fillna(25, inplace=True)"
      ],
      "metadata": {
        "execution": {
          "iopub.status.busy": "2023-11-16T08:39:42.994868Z",
          "iopub.execute_input": "2023-11-16T08:39:42.995833Z",
          "iopub.status.idle": "2023-11-16T08:39:43.002412Z",
          "shell.execute_reply.started": "2023-11-16T08:39:42.995801Z",
          "shell.execute_reply": "2023-11-16T08:39:43.001128Z"
        },
        "trusted": true,
        "id": "kOY6Q7BFluP_"
      },
      "execution_count": null,
      "outputs": []
    },
    {
      "cell_type": "code",
      "source": [
        "df[\"internal storage\"].mode()"
      ],
      "metadata": {
        "execution": {
          "iopub.status.busy": "2023-11-16T08:39:43.00415Z",
          "iopub.execute_input": "2023-11-16T08:39:43.004844Z",
          "iopub.status.idle": "2023-11-16T08:39:43.016834Z",
          "shell.execute_reply.started": "2023-11-16T08:39:43.004802Z",
          "shell.execute_reply": "2023-11-16T08:39:43.01563Z"
        },
        "trusted": true,
        "id": "iScwx0W_luP_"
      },
      "execution_count": null,
      "outputs": []
    },
    {
      "cell_type": "code",
      "source": [
        "df[\"internal storage\"].fillna(128, inplace=True)"
      ],
      "metadata": {
        "execution": {
          "iopub.status.busy": "2023-11-16T08:39:43.01881Z",
          "iopub.execute_input": "2023-11-16T08:39:43.019167Z",
          "iopub.status.idle": "2023-11-16T08:39:43.028467Z",
          "shell.execute_reply.started": "2023-11-16T08:39:43.019137Z",
          "shell.execute_reply": "2023-11-16T08:39:43.027353Z"
        },
        "trusted": true,
        "id": "4P4foZzIluP_"
      },
      "execution_count": null,
      "outputs": []
    },
    {
      "cell_type": "code",
      "source": [
        "df[\"RAM\"].mode()"
      ],
      "metadata": {
        "execution": {
          "iopub.status.busy": "2023-11-16T08:39:43.029779Z",
          "iopub.execute_input": "2023-11-16T08:39:43.03043Z",
          "iopub.status.idle": "2023-11-16T08:39:43.041502Z",
          "shell.execute_reply.started": "2023-11-16T08:39:43.030386Z",
          "shell.execute_reply": "2023-11-16T08:39:43.040101Z"
        },
        "trusted": true,
        "id": "jOLAS-MaluQA"
      },
      "execution_count": null,
      "outputs": []
    },
    {
      "cell_type": "code",
      "source": [
        "df[\"RAM\"].fillna(4, inplace=True)"
      ],
      "metadata": {
        "execution": {
          "iopub.status.busy": "2023-11-16T08:39:43.04334Z",
          "iopub.execute_input": "2023-11-16T08:39:43.043748Z",
          "iopub.status.idle": "2023-11-16T08:39:43.054642Z",
          "shell.execute_reply.started": "2023-11-16T08:39:43.043713Z",
          "shell.execute_reply": "2023-11-16T08:39:43.053382Z"
        },
        "trusted": true,
        "id": "lxu3vz3SluQA"
      },
      "execution_count": null,
      "outputs": []
    },
    {
      "cell_type": "code",
      "source": [
        "df.isnull().sum()"
      ],
      "metadata": {
        "execution": {
          "iopub.status.busy": "2023-11-16T08:39:43.055873Z",
          "iopub.execute_input": "2023-11-16T08:39:43.056691Z",
          "iopub.status.idle": "2023-11-16T08:39:43.069227Z",
          "shell.execute_reply.started": "2023-11-16T08:39:43.056647Z",
          "shell.execute_reply": "2023-11-16T08:39:43.067977Z"
        },
        "trusted": true,
        "id": "74q5wkibluQA"
      },
      "execution_count": null,
      "outputs": []
    },
    {
      "cell_type": "markdown",
      "source": [
        "Inorder to identify the outliers in each variable, we plotted boxplot."
      ],
      "metadata": {
        "id": "tOZJYCvlluQA"
      }
    },
    {
      "cell_type": "code",
      "source": [
        "sns.boxplot(data=df[\"price\"])"
      ],
      "metadata": {
        "execution": {
          "iopub.status.busy": "2023-11-16T08:39:43.070565Z",
          "iopub.execute_input": "2023-11-16T08:39:43.07178Z",
          "iopub.status.idle": "2023-11-16T08:39:43.358382Z",
          "shell.execute_reply.started": "2023-11-16T08:39:43.071736Z",
          "shell.execute_reply": "2023-11-16T08:39:43.357427Z"
        },
        "trusted": true,
        "id": "cyb-fTNCluQA"
      },
      "execution_count": null,
      "outputs": []
    },
    {
      "cell_type": "code",
      "source": [
        "sns.boxplot(data=df[\"prod_rating\"])"
      ],
      "metadata": {
        "execution": {
          "iopub.status.busy": "2023-11-16T08:39:43.36076Z",
          "iopub.execute_input": "2023-11-16T08:39:43.361089Z",
          "iopub.status.idle": "2023-11-16T08:39:43.605635Z",
          "shell.execute_reply.started": "2023-11-16T08:39:43.361043Z",
          "shell.execute_reply": "2023-11-16T08:39:43.604327Z"
        },
        "trusted": true,
        "id": "RGabDTyEluQA"
      },
      "execution_count": null,
      "outputs": []
    },
    {
      "cell_type": "code",
      "source": [
        "sns.boxplot(data=df[\"rating_count\"])"
      ],
      "metadata": {
        "execution": {
          "iopub.status.busy": "2023-11-16T08:39:43.607184Z",
          "iopub.execute_input": "2023-11-16T08:39:43.607549Z",
          "iopub.status.idle": "2023-11-16T08:39:43.829489Z",
          "shell.execute_reply.started": "2023-11-16T08:39:43.607519Z",
          "shell.execute_reply": "2023-11-16T08:39:43.82835Z"
        },
        "trusted": true,
        "id": "tLle0Wa8luQA"
      },
      "execution_count": null,
      "outputs": []
    },
    {
      "cell_type": "code",
      "source": [
        "sns.boxplot(data=df[\"discount\"])"
      ],
      "metadata": {
        "execution": {
          "iopub.status.busy": "2023-11-16T08:39:43.831091Z",
          "iopub.execute_input": "2023-11-16T08:39:43.831476Z",
          "iopub.status.idle": "2023-11-16T08:39:44.055373Z",
          "shell.execute_reply.started": "2023-11-16T08:39:43.831444Z",
          "shell.execute_reply": "2023-11-16T08:39:44.054187Z"
        },
        "trusted": true,
        "id": "6nd95jDqluQA"
      },
      "execution_count": null,
      "outputs": []
    },
    {
      "cell_type": "markdown",
      "source": [
        "I had used winsorization technique to treat the outliers."
      ],
      "metadata": {
        "id": "8PDd2jhQluQB"
      }
    },
    {
      "cell_type": "code",
      "source": [
        "from scipy.stats.mstats import winsorize\n",
        "df[\"price\"]=winsorize(df[\"price\"],limits=[0.05,0.05])"
      ],
      "metadata": {
        "execution": {
          "iopub.status.busy": "2023-11-16T08:39:44.056701Z",
          "iopub.execute_input": "2023-11-16T08:39:44.057145Z",
          "iopub.status.idle": "2023-11-16T08:39:44.064844Z",
          "shell.execute_reply.started": "2023-11-16T08:39:44.057097Z",
          "shell.execute_reply": "2023-11-16T08:39:44.063219Z"
        },
        "trusted": true,
        "id": "rUDHxietluQB"
      },
      "execution_count": null,
      "outputs": []
    },
    {
      "cell_type": "code",
      "source": [
        "sns.boxplot(df[\"price\"])"
      ],
      "metadata": {
        "execution": {
          "iopub.status.busy": "2023-11-16T08:39:44.066624Z",
          "iopub.execute_input": "2023-11-16T08:39:44.06701Z",
          "iopub.status.idle": "2023-11-16T08:39:44.30118Z",
          "shell.execute_reply.started": "2023-11-16T08:39:44.066978Z",
          "shell.execute_reply": "2023-11-16T08:39:44.300372Z"
        },
        "trusted": true,
        "id": "o1BD1r14luQB"
      },
      "execution_count": null,
      "outputs": []
    },
    {
      "cell_type": "code",
      "source": [
        "df[\"prod_rating\"]=winsorize(df[\"prod_rating\"],limits=[0.05,0.05])"
      ],
      "metadata": {
        "execution": {
          "iopub.status.busy": "2023-11-16T08:39:44.302412Z",
          "iopub.execute_input": "2023-11-16T08:39:44.303464Z",
          "iopub.status.idle": "2023-11-16T08:39:44.310024Z",
          "shell.execute_reply.started": "2023-11-16T08:39:44.303428Z",
          "shell.execute_reply": "2023-11-16T08:39:44.308932Z"
        },
        "trusted": true,
        "id": "dEY27jrNluQB"
      },
      "execution_count": null,
      "outputs": []
    },
    {
      "cell_type": "code",
      "source": [
        "sns.boxplot(df[\"prod_rating\"])"
      ],
      "metadata": {
        "execution": {
          "iopub.status.busy": "2023-11-16T08:39:44.311243Z",
          "iopub.execute_input": "2023-11-16T08:39:44.311731Z",
          "iopub.status.idle": "2023-11-16T08:39:44.537373Z",
          "shell.execute_reply.started": "2023-11-16T08:39:44.311611Z",
          "shell.execute_reply": "2023-11-16T08:39:44.536171Z"
        },
        "trusted": true,
        "id": "WoWWDqBSluQB"
      },
      "execution_count": null,
      "outputs": []
    },
    {
      "cell_type": "code",
      "source": [
        "df[\"rating_count\"]=winsorize(df[\"rating_count\"],limits=[0.05,0.10])"
      ],
      "metadata": {
        "execution": {
          "iopub.status.busy": "2023-11-16T08:39:44.538806Z",
          "iopub.execute_input": "2023-11-16T08:39:44.539386Z",
          "iopub.status.idle": "2023-11-16T08:39:44.547391Z",
          "shell.execute_reply.started": "2023-11-16T08:39:44.539347Z",
          "shell.execute_reply": "2023-11-16T08:39:44.545754Z"
        },
        "trusted": true,
        "id": "4Bs667jRluQB"
      },
      "execution_count": null,
      "outputs": []
    },
    {
      "cell_type": "code",
      "source": [
        "sns.boxplot(df[\"rating_count\"])"
      ],
      "metadata": {
        "execution": {
          "iopub.status.busy": "2023-11-16T08:39:44.548916Z",
          "iopub.execute_input": "2023-11-16T08:39:44.549277Z",
          "iopub.status.idle": "2023-11-16T08:39:44.776808Z",
          "shell.execute_reply.started": "2023-11-16T08:39:44.549246Z",
          "shell.execute_reply": "2023-11-16T08:39:44.775121Z"
        },
        "trusted": true,
        "id": "EpgZnQOYluQB"
      },
      "execution_count": null,
      "outputs": []
    },
    {
      "cell_type": "code",
      "source": [
        "df[\"discount\"]=winsorize(df[\"discount\"],limits=[0.05,0.05])\n",
        "sns.boxplot(df[\"discount\"])"
      ],
      "metadata": {
        "execution": {
          "iopub.status.busy": "2023-11-16T08:39:44.778341Z",
          "iopub.execute_input": "2023-11-16T08:39:44.778708Z",
          "iopub.status.idle": "2023-11-16T08:39:45.015816Z",
          "shell.execute_reply.started": "2023-11-16T08:39:44.778676Z",
          "shell.execute_reply": "2023-11-16T08:39:45.01448Z"
        },
        "trusted": true,
        "id": "YvwgUWepluQB"
      },
      "execution_count": null,
      "outputs": []
    },
    {
      "cell_type": "markdown",
      "source": [
        "Histograms are plotted for each numerical columns for getting an idea about the distribution of the data"
      ],
      "metadata": {
        "id": "QfiN8KvRluQB"
      }
    },
    {
      "cell_type": "code",
      "source": [
        "sns.histplot(df[\"price\"])"
      ],
      "metadata": {
        "execution": {
          "iopub.status.busy": "2023-11-16T08:39:45.01831Z",
          "iopub.execute_input": "2023-11-16T08:39:45.019401Z",
          "iopub.status.idle": "2023-11-16T08:39:45.35923Z",
          "shell.execute_reply.started": "2023-11-16T08:39:45.019354Z",
          "shell.execute_reply": "2023-11-16T08:39:45.358247Z"
        },
        "trusted": true,
        "id": "qMBq8otsluQC"
      },
      "execution_count": null,
      "outputs": []
    },
    {
      "cell_type": "code",
      "source": [
        "sns.histplot(df[\"prod_rating\"])"
      ],
      "metadata": {
        "execution": {
          "iopub.status.busy": "2023-11-16T08:39:45.360946Z",
          "iopub.execute_input": "2023-11-16T08:39:45.36158Z",
          "iopub.status.idle": "2023-11-16T08:39:45.69122Z",
          "shell.execute_reply.started": "2023-11-16T08:39:45.361545Z",
          "shell.execute_reply": "2023-11-16T08:39:45.690102Z"
        },
        "trusted": true,
        "id": "2mrMrth_luQC"
      },
      "execution_count": null,
      "outputs": []
    },
    {
      "cell_type": "code",
      "source": [
        "sns.histplot(df[\"rating_count\"])"
      ],
      "metadata": {
        "execution": {
          "iopub.status.busy": "2023-11-16T08:39:45.692776Z",
          "iopub.execute_input": "2023-11-16T08:39:45.693127Z",
          "iopub.status.idle": "2023-11-16T08:39:46.024024Z",
          "shell.execute_reply.started": "2023-11-16T08:39:45.693095Z",
          "shell.execute_reply": "2023-11-16T08:39:46.022888Z"
        },
        "trusted": true,
        "id": "l8fdEPKGluQC"
      },
      "execution_count": null,
      "outputs": []
    },
    {
      "cell_type": "code",
      "source": [
        "sns.histplot(df[\"discount\"])"
      ],
      "metadata": {
        "execution": {
          "iopub.status.busy": "2023-11-16T08:39:46.025826Z",
          "iopub.execute_input": "2023-11-16T08:39:46.02714Z",
          "iopub.status.idle": "2023-11-16T08:39:46.351361Z",
          "shell.execute_reply.started": "2023-11-16T08:39:46.027095Z",
          "shell.execute_reply": "2023-11-16T08:39:46.349775Z"
        },
        "trusted": true,
        "id": "GX0LLULCluQC"
      },
      "execution_count": null,
      "outputs": []
    },
    {
      "cell_type": "code",
      "source": [
        "sns.histplot(df[\"seller_rating\"])"
      ],
      "metadata": {
        "execution": {
          "iopub.status.busy": "2023-11-16T08:39:46.353451Z",
          "iopub.execute_input": "2023-11-16T08:39:46.354202Z",
          "iopub.status.idle": "2023-11-16T08:39:46.688266Z",
          "shell.execute_reply.started": "2023-11-16T08:39:46.354167Z",
          "shell.execute_reply": "2023-11-16T08:39:46.687368Z"
        },
        "trusted": true,
        "id": "HNIEKJJ8luQC"
      },
      "execution_count": null,
      "outputs": []
    },
    {
      "cell_type": "markdown",
      "source": [
        "Correlation between the numerical variables are as below"
      ],
      "metadata": {
        "id": "69zRurjaluQC"
      }
    },
    {
      "cell_type": "code",
      "source": [
        "correlation=df[[\"price\",\"prod_rating\",\"rating_count\",\"discount\"]].corr()\n",
        "correlation"
      ],
      "metadata": {
        "execution": {
          "iopub.status.busy": "2023-11-16T08:40:09.752387Z",
          "iopub.execute_input": "2023-11-16T08:40:09.752842Z",
          "iopub.status.idle": "2023-11-16T08:40:09.770444Z",
          "shell.execute_reply.started": "2023-11-16T08:40:09.752809Z",
          "shell.execute_reply": "2023-11-16T08:40:09.768983Z"
        },
        "trusted": true,
        "id": "2VgpxIU1luQC"
      },
      "execution_count": null,
      "outputs": []
    },
    {
      "cell_type": "code",
      "source": [
        "sns.heatmap(correlation)"
      ],
      "metadata": {
        "execution": {
          "iopub.status.busy": "2023-11-16T08:40:18.201076Z",
          "iopub.execute_input": "2023-11-16T08:40:18.201525Z",
          "iopub.status.idle": "2023-11-16T08:40:18.557387Z",
          "shell.execute_reply.started": "2023-11-16T08:40:18.20149Z",
          "shell.execute_reply": "2023-11-16T08:40:18.556064Z"
        },
        "trusted": true,
        "id": "T2WG1F7eluQC"
      },
      "execution_count": null,
      "outputs": []
    },
    {
      "cell_type": "code",
      "source": [
        "df.to_csv(r\"C:\\Users\\Admin\\Downloads\\flipkart_top_mobiles_processed1.csv\")"
      ],
      "metadata": {
        "execution": {
          "iopub.status.busy": "2023-11-16T08:39:47.412552Z",
          "iopub.status.idle": "2023-11-16T08:39:47.413066Z",
          "shell.execute_reply.started": "2023-11-16T08:39:47.412825Z",
          "shell.execute_reply": "2023-11-16T08:39:47.412854Z"
        },
        "trusted": true,
        "id": "MIv4lRhEluQC"
      },
      "execution_count": null,
      "outputs": []
    },
    {
      "cell_type": "code",
      "source": [],
      "metadata": {
        "id": "xz7yZJKKluQD"
      },
      "execution_count": null,
      "outputs": []
    },
    {
      "cell_type": "code",
      "source": [],
      "metadata": {
        "id": "6X4L27UhluQD"
      },
      "execution_count": null,
      "outputs": []
    }
  ]
}